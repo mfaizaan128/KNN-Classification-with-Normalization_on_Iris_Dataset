{
 "cells": [
  {
   "cell_type": "markdown",
   "metadata": {},
   "source": [
    "# CM7"
   ]
  },
  {
   "cell_type": "code",
   "execution_count": 1,
   "metadata": {},
   "outputs": [],
   "source": [
    "import pandas as pd\n",
    "import numpy as np\n",
    "from matplotlib import pyplot as plt\n",
    "import seaborn as sns\n",
    "from sklearn.neighbors import KNeighborsClassifier\n",
    "from sklearn import metrics\n",
    "from sklearn.model_selection import cross_val_score\n",
    "from sklearn.model_selection import train_test_split\n",
    "from scipy import stats"
   ]
  },
  {
   "cell_type": "markdown",
   "metadata": {},
   "source": [
    "## Iris"
   ]
  },
  {
   "cell_type": "code",
   "execution_count": 2,
   "metadata": {},
   "outputs": [],
   "source": [
    "df_iris = pd.read_csv('iris_dataset_missing.csv')"
   ]
  },
  {
   "cell_type": "code",
   "execution_count": 3,
   "metadata": {},
   "outputs": [],
   "source": [
    "df_iris['sepal_width'].interpolate(method='linear', direction = 'forward', inplace=True) \n",
    "df_iris['petal_length'].interpolate(method='linear', direction = 'forward', inplace=True) "
   ]
  },
  {
   "cell_type": "code",
   "execution_count": 4,
   "metadata": {},
   "outputs": [],
   "source": [
    "def minmax_scaling(a):\n",
    "    xx=a\n",
    "    a_std = (xx- xx.min(axis = 0)) / (xx.max(axis = 0) - xx.min(axis = 0))\n",
    "    return a_std"
   ]
  },
  {
   "cell_type": "code",
   "execution_count": 5,
   "metadata": {},
   "outputs": [],
   "source": [
    "def zscore(a):\n",
    "    xx=a\n",
    "    a_std = (xx- np.mean(xx)) / (np.std(xx))\n",
    "    return a_std"
   ]
  },
  {
   "cell_type": "code",
   "execution_count": 6,
   "metadata": {},
   "outputs": [],
   "source": [
    "mf_iris=df_iris.copy()\n",
    "mf_iris['sepal_length']=minmax_scaling(mf_iris['sepal_length'])\n",
    "mf_iris['sepal_width']=minmax_scaling(mf_iris['sepal_width'])\n",
    "mf_iris['petal_length']=minmax_scaling(mf_iris['petal_length'])\n",
    "mf_iris['petal_width']=minmax_scaling(mf_iris['petal_width'])"
   ]
  },
  {
   "cell_type": "code",
   "execution_count": 7,
   "metadata": {},
   "outputs": [],
   "source": [
    "zf_iris=df_iris.copy()\n",
    "zf_iris['sepal_length']=zscore(zf_iris['sepal_length'])\n",
    "zf_iris['sepal_width']=zscore(zf_iris['sepal_width'])\n",
    "zf_iris['petal_length']=zscore(zf_iris['petal_length'])\n",
    "zf_iris['petal_width']=zscore(zf_iris['petal_width'])"
   ]
  },
  {
   "cell_type": "markdown",
   "metadata": {},
   "source": [
    "### By minmax"
   ]
  },
  {
   "cell_type": "markdown",
   "metadata": {},
   "source": [
    "#### Weighted KNN"
   ]
  },
  {
   "cell_type": "code",
   "execution_count": 31,
   "metadata": {},
   "outputs": [
    {
     "name": "stdout",
     "output_type": "stream",
     "text": [
      "K= 1 and mean of accuracy is 0.8941176470588236 and standard deviation is 0.06859943405700356 .\n",
      "K= 2 and mean of accuracy is 0.8941176470588236 and standard deviation is 0.06859943405700356 .\n",
      "K= 3 and mean of accuracy is 0.9176470588235294 and standard deviation is 0.07058823529411766 .\n",
      "K= 4 and mean of accuracy is 0.8816176470588235 and standard deviation is 0.051805632217083945 .\n",
      "K= 5 and mean of accuracy is 0.9051470588235293 and standard deviation is 0.07023502315446797 .\n",
      "K= 6 and mean of accuracy is 0.9051470588235293 and standard deviation is 0.07023502315446797 .\n",
      "K= 7 and mean of accuracy is 0.9051470588235293 and standard deviation is 0.07023502315446797 .\n",
      "K= 8 and mean of accuracy is 0.9286764705882351 and standard deviation is 0.04384721034081052 .\n",
      "K= 9 and mean of accuracy is 0.9051470588235293 and standard deviation is 0.07023502315446797 .\n",
      "K= 10 and mean of accuracy is 0.9051470588235293 and standard deviation is 0.07023502315446797 .\n",
      "K= 11 and mean of accuracy is 0.9051470588235293 and standard deviation is 0.07023502315446797 .\n",
      "K= 12 and mean of accuracy is 0.9051470588235293 and standard deviation is 0.07023502315446797 .\n",
      "K= 13 and mean of accuracy is 0.9169117647058822 and standard deviation is 0.07958858310432242 .\n",
      "K= 14 and mean of accuracy is 0.9051470588235293 and standard deviation is 0.07947981833453918 .\n",
      "K= 15 and mean of accuracy is 0.9169117647058822 and standard deviation is 0.05971747207131458 .\n",
      "K= 16 and mean of accuracy is 0.9051470588235293 and standard deviation is 0.07947981833453918 .\n",
      "K= 17 and mean of accuracy is 0.9051470588235293 and standard deviation is 0.07947981833453918 .\n",
      "K= 18 and mean of accuracy is 0.9169117647058822 and standard deviation is 0.05971747207131458 .\n",
      "K= 19 and mean of accuracy is 0.9169117647058822 and standard deviation is 0.05971747207131458 .\n",
      "K= 20 and mean of accuracy is 0.9169117647058822 and standard deviation is 0.05971747207131458 .\n",
      "K= 21 and mean of accuracy is 0.9169117647058822 and standard deviation is 0.05971747207131458 .\n",
      "K= 22 and mean of accuracy is 0.9169117647058822 and standard deviation is 0.05971747207131458 .\n",
      "K= 23 and mean of accuracy is 0.9169117647058822 and standard deviation is 0.05971747207131458 .\n",
      "K= 24 and mean of accuracy is 0.9169117647058822 and standard deviation is 0.05971747207131458 .\n",
      "K= 25 and mean of accuracy is 0.9051470588235293 and standard deviation is 0.059572438530967935 .\n",
      "K= 26 and mean of accuracy is 0.9051470588235293 and standard deviation is 0.059572438530967935 .\n",
      "K= 27 and mean of accuracy is 0.9051470588235293 and standard deviation is 0.059572438530967935 .\n",
      "K= 28 and mean of accuracy is 0.9051470588235293 and standard deviation is 0.059572438530967935 .\n",
      "K= 29 and mean of accuracy is 0.9051470588235293 and standard deviation is 0.059572438530967935 .\n",
      "K= 30 and mean of accuracy is 0.9051470588235293 and standard deviation is 0.059572438530967935 .\n",
      "K= 31 and mean of accuracy is 0.9051470588235293 and standard deviation is 0.059572438530967935 .\n",
      "K= 32 and mean of accuracy is 0.9169117647058822 and standard deviation is 0.05971747207131458 .\n",
      "K= 33 and mean of accuracy is 0.9051470588235293 and standard deviation is 0.059572438530967935 .\n",
      "K= 34 and mean of accuracy is 0.9051470588235293 and standard deviation is 0.059572438530967935 .\n",
      "K= 35 and mean of accuracy is 0.9051470588235293 and standard deviation is 0.059572438530967935 .\n"
     ]
    }
   ],
   "source": [
    "train, test = train_test_split(mf_iris, test_size = 0.2, stratify = mf_iris['species'], random_state = 98)\n",
    "#corrmat = train.corr()\n",
    "#sns.heatmap(corrmat, annot = True, square = True);\n",
    "X_train = train[['sepal_length','sepal_width','petal_length','petal_width']]\n",
    "y_train = train.species\n",
    "X_test = test[['sepal_length','sepal_width','petal_length','petal_width']]\n",
    "y_test = test.species\n",
    "counter = 0\n",
    "scoresMean = np.zeros(35)\n",
    "scoresStd  = np.zeros(35)\n",
    "for k in range(1,36):\n",
    "    classifier = KNeighborsClassifier(n_neighbors = k, metric='euclidean', weights='distance')\n",
    "    classifier = classifier.fit(X_train,y_train)\n",
    "    scores = cross_val_score(classifier, X_train, y_train, cv=5)\n",
    "    scoresMean[counter] = scores.mean()\n",
    "    scoresStd[counter] = scores.std()\n",
    "    counter = counter + 1\n",
    "    print('K=',k,'and mean of accuracy is',scores.mean(),'and standard deviation is',scores.std(),'.')"
   ]
  },
  {
   "cell_type": "code",
   "execution_count": 11,
   "metadata": {},
   "outputs": [
    {
     "name": "stdout",
     "output_type": "stream",
     "text": [
      "                 precision    recall  f1-score   support\n",
      "\n",
      "    Iris-setosa       1.00      1.00      1.00         7\n",
      "Iris-versicolor       0.88      1.00      0.93         7\n",
      " Iris-virginica       1.00      0.86      0.92         7\n",
      "\n",
      "       accuracy                           0.95        21\n",
      "      macro avg       0.96      0.95      0.95        21\n",
      "   weighted avg       0.96      0.95      0.95        21\n",
      "\n"
     ]
    }
   ],
   "source": [
    "train, test = train_test_split(mf_iris, test_size = 0.2, stratify = mf_iris['species'], random_state = 98)\n",
    "X_train = train[['sepal_length','sepal_width','petal_length','petal_width']]\n",
    "y_train = train.species\n",
    "X_test = test[['sepal_length','sepal_width','petal_length','petal_width']]\n",
    "y_test = test.species\n",
    "k=7\n",
    "classifier = KNeighborsClassifier(n_neighbors = k, metric='euclidean', weights='distance')\n",
    "classifier = classifier.fit(X_train,y_train)\n",
    "scores = cross_val_score(classifier, X_train, y_train, cv=5)\n",
    "scoresMean = scores.mean()\n",
    "scoresStd = scores.std()\n",
    "y_pred = classifier.predict(X_test)\n",
    "print(metrics.classification_report(y_test, y_pred))"
   ]
  },
  {
   "cell_type": "markdown",
   "metadata": {},
   "source": [
    "### By zscore"
   ]
  },
  {
   "cell_type": "markdown",
   "metadata": {},
   "source": [
    "##### Weighted KNN"
   ]
  },
  {
   "cell_type": "code",
   "execution_count": 13,
   "metadata": {},
   "outputs": [
    {
     "name": "stdout",
     "output_type": "stream",
     "text": [
      "                 precision    recall  f1-score   support\n",
      "\n",
      "    Iris-setosa       1.00      1.00      1.00         7\n",
      "Iris-versicolor       0.88      1.00      0.93         7\n",
      " Iris-virginica       1.00      0.86      0.92         7\n",
      "\n",
      "       accuracy                           0.95        21\n",
      "      macro avg       0.96      0.95      0.95        21\n",
      "   weighted avg       0.96      0.95      0.95        21\n",
      "\n"
     ]
    }
   ],
   "source": [
    "from sklearn.model_selection import train_test_split\n",
    "import seaborn as sns\n",
    "from sklearn.neighbors import KNeighborsClassifier\n",
    "from sklearn import metrics\n",
    "from sklearn.model_selection import cross_val_score\n",
    "from sklearn.preprocessing import StandardScaler\n",
    "\n",
    "train, test = train_test_split(zf_iris, test_size = 0.2, stratify = zf_iris['species'], random_state = 98)\n",
    "X_train = train[['sepal_length','sepal_width','petal_length','petal_width']]\n",
    "y_train = train.species\n",
    "X_test = test[['sepal_length','sepal_width','petal_length','petal_width']]\n",
    "y_test = test.species\n",
    "k=7\n",
    "classifier = KNeighborsClassifier(n_neighbors = k, metric='euclidean', weights='distance')\n",
    "classifier = classifier.fit(X_train,y_train)\n",
    "scores = cross_val_score(classifier, X_train, y_train, cv=5)\n",
    "scoresMean = scores.mean()\n",
    "scoresStd = scores.std()\n",
    "y_pred = classifier.predict(X_test)\n",
    "print(metrics.classification_report(y_test, y_pred))"
   ]
  },
  {
   "cell_type": "markdown",
   "metadata": {},
   "source": [
    "The best solution after normalization for Iris database is the use of weighted KNN. Although accuracy decreased, other paramters like weighted avg and marco avg improved 5%. "
   ]
  },
  {
   "cell_type": "markdown",
   "metadata": {},
   "source": [
    "## Heart disease"
   ]
  },
  {
   "cell_type": "code",
   "execution_count": 28,
   "metadata": {},
   "outputs": [],
   "source": [
    "df = pd.read_csv('heart_disease_missing.csv')\n",
    "if(df.isnull().values.any()):\n",
    "    df = df.fillna(method = 'ffill')\n",
    "df = df[(np.abs(stats.zscore(df)) < 4).all(axis=1)]\n",
    "df = df[[ 'cp', 'thalach', 'exang', 'oldpeak', 'ca','target']]\n",
    "df['oldpeak'].interpolate(method='linear', direction = 'forward', inplace=True) "
   ]
  },
  {
   "cell_type": "markdown",
   "metadata": {},
   "source": [
    "### Without normalization "
   ]
  },
  {
   "cell_type": "code",
   "execution_count": 29,
   "metadata": {},
   "outputs": [
    {
     "name": "stdout",
     "output_type": "stream",
     "text": [
      "              precision    recall  f1-score   support\n",
      "\n",
      "           0       0.70      0.70      0.70        20\n",
      "           1       0.74      0.74      0.74        23\n",
      "\n",
      "    accuracy                           0.72        43\n",
      "   macro avg       0.72      0.72      0.72        43\n",
      "weighted avg       0.72      0.72      0.72        43\n",
      "\n"
     ]
    }
   ],
   "source": [
    "X = df.iloc[:,:-1].values\n",
    "y = df.iloc[:,5].values\n",
    "X_t, X_test, y_t, y_test =  train_test_split(X,y,test_size = 0.2, random_state= 98)\n",
    "X_train, X_val, y_train, y_val =  train_test_split(X_t,y_t,test_size = 0.1, random_state= 98)\n",
    "k = 11\n",
    "classifier = KNeighborsClassifier(n_neighbors = k)\n",
    "classifier = classifier.fit(X_train,y_train)\n",
    "y_pred = classifier.predict(X_test)\n",
    "print(metrics.classification_report(y_test, y_pred))"
   ]
  },
  {
   "cell_type": "code",
   "execution_count": 17,
   "metadata": {},
   "outputs": [
    {
     "name": "stdout",
     "output_type": "stream",
     "text": [
      "              precision    recall  f1-score   support\n",
      "\n",
      "           0       0.70      0.70      0.70        20\n",
      "           1       0.74      0.74      0.74        23\n",
      "\n",
      "    accuracy                           0.72        43\n",
      "   macro avg       0.72      0.72      0.72        43\n",
      "weighted avg       0.72      0.72      0.72        43\n",
      "\n"
     ]
    }
   ],
   "source": [
    "X = df.iloc[:,:-1].values\n",
    "y = df.iloc[:,5].values\n",
    "X_t, X_test, y_t, y_test =  train_test_split(X,y,test_size = 0.2, random_state= 98)\n",
    "X_train, X_val, y_train, y_val =  train_test_split(X_t,y_t,test_size = 0.1, random_state= 98)\n",
    "k = 11\n",
    "classifier = KNeighborsClassifier(n_neighbors = k,algorithm='brute')\n",
    "classifier = classifier.fit(X_train,y_train)\n",
    "y_pred = classifier.predict(X_test)\n",
    "print(metrics.classification_report(y_test, y_pred))"
   ]
  },
  {
   "cell_type": "code",
   "execution_count": 19,
   "metadata": {},
   "outputs": [
    {
     "name": "stdout",
     "output_type": "stream",
     "text": [
      "              precision    recall  f1-score   support\n",
      "\n",
      "           0       0.70      0.70      0.70        20\n",
      "           1       0.74      0.74      0.74        23\n",
      "\n",
      "    accuracy                           0.72        43\n",
      "   macro avg       0.72      0.72      0.72        43\n",
      "weighted avg       0.72      0.72      0.72        43\n",
      "\n"
     ]
    }
   ],
   "source": [
    "X = df.iloc[:,:-1].values\n",
    "y = df.iloc[:,5].values\n",
    "X_t, X_test, y_t, y_test =  train_test_split(X,y,test_size = 0.2, random_state= 98)\n",
    "X_train, X_val, y_train, y_val =  train_test_split(X_t,y_t,test_size = 0.1, random_state= 98)\n",
    "k = 11\n",
    "classifier = KNeighborsClassifier(n_neighbors = k,algorithm='kd_tree')\n",
    "classifier = classifier.fit(X_train,y_train)\n",
    "y_pred = classifier.predict(X_test)\n",
    "print(metrics.classification_report(y_test, y_pred))"
   ]
  },
  {
   "cell_type": "code",
   "execution_count": 20,
   "metadata": {},
   "outputs": [
    {
     "name": "stdout",
     "output_type": "stream",
     "text": [
      "              precision    recall  f1-score   support\n",
      "\n",
      "           0       0.70      0.70      0.70        20\n",
      "           1       0.74      0.74      0.74        23\n",
      "\n",
      "    accuracy                           0.72        43\n",
      "   macro avg       0.72      0.72      0.72        43\n",
      "weighted avg       0.72      0.72      0.72        43\n",
      "\n"
     ]
    }
   ],
   "source": [
    "X = df.iloc[:,:-1].values\n",
    "y = df.iloc[:,5].values\n",
    "X_t, X_test, y_t, y_test =  train_test_split(X,y,test_size = 0.2, random_state= 98)\n",
    "X_train, X_val, y_train, y_val =  train_test_split(X_t,y_t,test_size = 0.1, random_state= 98)\n",
    "k = 11\n",
    "classifier = KNeighborsClassifier(n_neighbors = k,algorithm='ball_tree')\n",
    "classifier = classifier.fit(X_train,y_train)\n",
    "y_pred = classifier.predict(X_test)\n",
    "print(metrics.classification_report(y_test, y_pred))"
   ]
  },
  {
   "cell_type": "markdown",
   "metadata": {},
   "source": [
    "It seems that the change of algorithm cannot be a good solution becuase the results are the same. "
   ]
  },
  {
   "cell_type": "markdown",
   "metadata": {},
   "source": [
    "#### weighted KNN"
   ]
  },
  {
   "cell_type": "code",
   "execution_count": 21,
   "metadata": {},
   "outputs": [
    {
     "name": "stdout",
     "output_type": "stream",
     "text": [
      "              precision    recall  f1-score   support\n",
      "\n",
      "           0       0.68      0.65      0.67        20\n",
      "           1       0.71      0.74      0.72        23\n",
      "\n",
      "    accuracy                           0.70        43\n",
      "   macro avg       0.70      0.69      0.70        43\n",
      "weighted avg       0.70      0.70      0.70        43\n",
      "\n"
     ]
    }
   ],
   "source": [
    "X = df.iloc[:,:-1].values\n",
    "y = df.iloc[:,5].values\n",
    "X_t, X_test, y_t, y_test =  train_test_split(X,y,test_size = 0.2, random_state= 98)\n",
    "X_train, X_val, y_train, y_val =  train_test_split(X_t,y_t,test_size = 0.1, random_state= 98)\n",
    "k = 11\n",
    "classifier = KNeighborsClassifier(n_neighbors = k, metric='euclidean', weights='distance')\n",
    "classifier = classifier.fit(X_train,y_train)\n",
    "y_pred = classifier.predict(X_test)\n",
    "print(metrics.classification_report(y_test, y_pred))"
   ]
  },
  {
   "cell_type": "markdown",
   "metadata": {},
   "source": [
    "#### By zscore"
   ]
  },
  {
   "cell_type": "code",
   "execution_count": 22,
   "metadata": {},
   "outputs": [
    {
     "name": "stdout",
     "output_type": "stream",
     "text": [
      "              precision    recall  f1-score   support\n",
      "\n",
      "           0       0.76      0.65      0.70        20\n",
      "           1       0.73      0.83      0.78        23\n",
      "\n",
      "    accuracy                           0.74        43\n",
      "   macro avg       0.75      0.74      0.74        43\n",
      "weighted avg       0.75      0.74      0.74        43\n",
      "\n"
     ]
    }
   ],
   "source": [
    "from sklearn.preprocessing import StandardScaler\n",
    "X = df.iloc[:,:-1].values\n",
    "y = df.iloc[:,5].values\n",
    "X_t, X_test, y_t, y_test =  train_test_split(X,y,test_size = 0.2, random_state= 98)\n",
    "X_train, X_val, y_train, y_val =  train_test_split(X_t,y_t,test_size = 0.1, random_state= 98)\n",
    "X_train = zscore(X_train)\n",
    "X_test = zscore(X_test)\n",
    "X_val = zscore(X_val)\n",
    "k = 9\n",
    "classifier = KNeighborsClassifier(n_neighbors = k)\n",
    "classifier = classifier.fit(X_train,y_train)\n",
    "y_pred = classifier.predict(X_test)\n",
    "print(metrics.classification_report(y_test, y_pred))"
   ]
  },
  {
   "cell_type": "markdown",
   "metadata": {},
   "source": [
    "#### weighted KNN"
   ]
  },
  {
   "cell_type": "code",
   "execution_count": 23,
   "metadata": {},
   "outputs": [
    {
     "name": "stdout",
     "output_type": "stream",
     "text": [
      "              precision    recall  f1-score   support\n",
      "\n",
      "           0       0.82      0.70      0.76        20\n",
      "           1       0.77      0.87      0.82        23\n",
      "\n",
      "    accuracy                           0.79        43\n",
      "   macro avg       0.80      0.78      0.79        43\n",
      "weighted avg       0.79      0.79      0.79        43\n",
      "\n"
     ]
    }
   ],
   "source": [
    "from sklearn.preprocessing import StandardScaler\n",
    "X = df.iloc[:,:-1].values\n",
    "y = df.iloc[:,5].values\n",
    "X_t, X_test, y_t, y_test =  train_test_split(X,y,test_size = 0.2, random_state= 98)\n",
    "X_train, X_val, y_train, y_val =  train_test_split(X_t,y_t,test_size = 0.1, random_state= 98)\n",
    "X_train = zscore(X_train)\n",
    "X_test = zscore(X_test)\n",
    "X_val = zscore(X_val)\n",
    "k = 9\n",
    "classifier = KNeighborsClassifier(n_neighbors = k, metric='euclidean', weights='distance')\n",
    "classifier = classifier.fit(X_train,y_train)\n",
    "y_pred = classifier.predict(X_test)\n",
    "print(metrics.classification_report(y_test, y_pred))"
   ]
  },
  {
   "cell_type": "markdown",
   "metadata": {},
   "source": [
    "#### By minmax"
   ]
  },
  {
   "cell_type": "code",
   "execution_count": 24,
   "metadata": {},
   "outputs": [
    {
     "name": "stdout",
     "output_type": "stream",
     "text": [
      "              precision    recall  f1-score   support\n",
      "\n",
      "           0       0.94      0.75      0.83        20\n",
      "           1       0.81      0.96      0.88        23\n",
      "\n",
      "    accuracy                           0.86        43\n",
      "   macro avg       0.88      0.85      0.86        43\n",
      "weighted avg       0.87      0.86      0.86        43\n",
      "\n"
     ]
    }
   ],
   "source": [
    "from sklearn.preprocessing import StandardScaler\n",
    "X = df.iloc[:,:-1].values\n",
    "y = df.iloc[:,5].values\n",
    "X_t, X_test, y_t, y_test =  train_test_split(X,y,test_size = 0.2, random_state= 98)\n",
    "X_train, X_val, y_train, y_val =  train_test_split(X_t,y_t,test_size = 0.1, random_state= 98)\n",
    "X_train = minmax_scaling(X_train)\n",
    "X_test = minmax_scaling(X_test)\n",
    "X_val = minmax_scaling(X_val)\n",
    "k = 20\n",
    "classifier = KNeighborsClassifier(n_neighbors = k)\n",
    "classifier = classifier.fit(X_train,y_train)\n",
    "y_pred = classifier.predict(X_test)\n",
    "print(metrics.classification_report(y_test, y_pred))"
   ]
  },
  {
   "cell_type": "markdown",
   "metadata": {},
   "source": [
    "#### Weighted KNN"
   ]
  },
  {
   "cell_type": "code",
   "execution_count": 25,
   "metadata": {},
   "outputs": [
    {
     "name": "stdout",
     "output_type": "stream",
     "text": [
      "              precision    recall  f1-score   support\n",
      "\n",
      "           0       0.89      0.80      0.84        20\n",
      "           1       0.84      0.91      0.87        23\n",
      "\n",
      "    accuracy                           0.86        43\n",
      "   macro avg       0.86      0.86      0.86        43\n",
      "weighted avg       0.86      0.86      0.86        43\n",
      "\n"
     ]
    }
   ],
   "source": [
    "from sklearn.preprocessing import StandardScaler\n",
    "X = df.iloc[:,:-1].values\n",
    "y = df.iloc[:,5].values\n",
    "X_t, X_test, y_t, y_test =  train_test_split(X,y,test_size = 0.2, random_state= 98)\n",
    "X_train, X_val, y_train, y_val =  train_test_split(X_t,y_t,test_size = 0.1, random_state= 98)\n",
    "X_train = minmax_scaling(X_train)\n",
    "X_test = minmax_scaling(X_test)\n",
    "X_val = minmax_scaling(X_val)\n",
    "k = 20\n",
    "classifier = KNeighborsClassifier(n_neighbors = k, metric='euclidean', weights='distance')\n",
    "classifier = classifier.fit(X_train,y_train)\n",
    "y_pred = classifier.predict(X_test)\n",
    "print(metrics.classification_report(y_test, y_pred))"
   ]
  },
  {
   "cell_type": "markdown",
   "metadata": {},
   "source": [
    "In this part, we added a new feature and based on the result, the accuracy imporved. Besides, it is clear that normalization reduced accuracy but macrco avg and weighted avg are improved. "
   ]
  },
  {
   "cell_type": "markdown",
   "metadata": {},
   "source": [
    "## Refrences\n",
    "https://www.kdnuggets.com/2019/07/classifying-heart-disease-using-k-nearest-neighbors.html/2\n",
    "https://towardsdatascience.com/exploring-classifiers-with-python-scikit-learn-iris-dataset-2bcb490d2e1b\n",
    "https://scikit-learn.org/stable/modules/cross_validation.html#cross-validation\n",
    "https://www.kdnuggets.com/2019/07/classifying-heart-disease-using-k-nearest-neighbors.html/2\n",
    "https://www.w3resource.com/python-exercises/pandas/missing-values/python-pandas-missing-values-exercise-15.php"
   ]
  }
 ],
 "metadata": {
  "kernelspec": {
   "display_name": "Python 3",
   "language": "python",
   "name": "python3"
  },
  "language_info": {
   "codemirror_mode": {
    "name": "ipython",
    "version": 3
   },
   "file_extension": ".py",
   "mimetype": "text/x-python",
   "name": "python",
   "nbconvert_exporter": "python",
   "pygments_lexer": "ipython3",
   "version": "3.8.5"
  }
 },
 "nbformat": 4,
 "nbformat_minor": 4
}
