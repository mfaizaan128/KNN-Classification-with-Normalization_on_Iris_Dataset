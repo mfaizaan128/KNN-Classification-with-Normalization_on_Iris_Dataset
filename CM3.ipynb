{
 "cells": [
  {
   "cell_type": "markdown",
   "metadata": {},
   "source": [
    "# CM3"
   ]
  },
  {
   "cell_type": "markdown",
   "metadata": {},
   "source": [
    "## IRIS"
   ]
  },
  {
   "cell_type": "code",
   "execution_count": 27,
   "metadata": {},
   "outputs": [],
   "source": [
    "import seaborn as sb\n",
    "import pandas as pd\n",
    "import numpy as np\n",
    "import matplotlib.pyplot as plt\n",
    "from scipy import stats"
   ]
  },
  {
   "cell_type": "markdown",
   "metadata": {},
   "source": [
    "### Corelation Calculation"
   ]
  },
  {
   "cell_type": "code",
   "execution_count": 28,
   "metadata": {},
   "outputs": [
    {
     "name": "stdout",
     "output_type": "stream",
     "text": [
      "Figure1 Correlation of features in Iris data base\n"
     ]
    },
    {
     "data": {
      "image/png": "[encoded data removed]",
      "text/plain": [
       "<Figure size 432x288 with 2 Axes>"
      ]
     },
     "metadata": {},
     "output_type": "display_data"
    }
   ],
   "source": [
    "df = pd.read_csv('iris_dataset_missing.csv')\n",
    "corr=df.corr('pearson')\n",
    "sb.heatmap(corr, cmap='RdBu_r',annot=True,linewidth=0.7)\n",
    "print('Figure1 Correlation of features in Iris data base')"
   ]
  },
  {
   "cell_type": "markdown",
   "metadata": {},
   "source": [
    "### Mean , Variance, Skew and Kurtosis calculation"
   ]
  },
  {
   "cell_type": "markdown",
   "metadata": {},
   "source": [
    "#### Mean of each feature grouped by species"
   ]
  },
  {
   "cell_type": "code",
   "execution_count": 29,
   "metadata": {},
   "outputs": [
    {
     "name": "stdout",
     "output_type": "stream",
     "text": [
      "                 sepal_length  sepal_width  petal_length  petal_width\n",
      "species                                                              \n",
      "Iris-setosa          4.987384     3.383549      1.484517     0.229271\n",
      "Iris-versicolor      5.948732     2.759377      4.283101     1.308528\n",
      "Iris-virginica       6.640611     3.025507      5.654781     2.061326\n"
     ]
    }
   ],
   "source": [
    "print(df.groupby('species').mean())"
   ]
  },
  {
   "cell_type": "markdown",
   "metadata": {},
   "source": [
    "#### Mean"
   ]
  },
  {
   "cell_type": "code",
   "execution_count": 30,
   "metadata": {},
   "outputs": [
    {
     "name": "stdout",
     "output_type": "stream",
     "text": [
      "sepal_length    5.858909\n",
      "sepal_width     3.059083\n",
      "petal_length    3.812370\n",
      "petal_width     1.199708\n",
      "dtype: float64\n"
     ]
    }
   ],
   "source": [
    "print(df.mean())"
   ]
  },
  {
   "cell_type": "markdown",
   "metadata": {},
   "source": [
    "#### Variance of each feature grouped by species"
   ]
  },
  {
   "cell_type": "code",
   "execution_count": 31,
   "metadata": {},
   "outputs": [
    {
     "name": "stdout",
     "output_type": "stream",
     "text": [
      "                 sepal_length  sepal_width  petal_length  petal_width\n",
      "species                                                              \n",
      "Iris-setosa          0.118106     0.197431      0.037441     0.017524\n",
      "Iris-versicolor      0.290830     0.107947      0.246239     0.052308\n",
      "Iris-virginica       0.442762     0.126109      0.335905     0.079779\n"
     ]
    }
   ],
   "source": [
    "print(df.groupby('species').var())"
   ]
  },
  {
   "cell_type": "markdown",
   "metadata": {},
   "source": [
    "#### Variance"
   ]
  },
  {
   "cell_type": "code",
   "execution_count": 32,
   "metadata": {},
   "outputs": [
    {
     "name": "stdout",
     "output_type": "stream",
     "text": [
      "sepal_length    0.742420\n",
      "sepal_width     0.207131\n",
      "petal_length    3.216602\n",
      "petal_width     0.619672\n",
      "dtype: float64\n"
     ]
    }
   ],
   "source": [
    "print(df.var())"
   ]
  },
  {
   "cell_type": "markdown",
   "metadata": {},
   "source": [
    "#### Skew of each feature grouped by species"
   ]
  },
  {
   "cell_type": "code",
   "execution_count": 33,
   "metadata": {},
   "outputs": [
    {
     "name": "stdout",
     "output_type": "stream",
     "text": [
      "                 sepal_length  sepal_width  petal_length  petal_width\n",
      "species                                                              \n",
      "Iris-setosa         -0.083972     0.192062      0.968824     0.063375\n",
      "Iris-versicolor      0.556421    -0.419480     -0.365501    -0.255765\n",
      "Iris-virginica       0.261658     0.167489      0.339880     0.096649\n"
     ]
    }
   ],
   "source": [
    "print(df.groupby('species').skew())"
   ]
  },
  {
   "cell_type": "markdown",
   "metadata": {},
   "source": [
    "#### Skew"
   ]
  },
  {
   "cell_type": "code",
   "execution_count": 34,
   "metadata": {},
   "outputs": [
    {
     "name": "stdout",
     "output_type": "stream",
     "text": [
      "sepal_length    0.401506\n",
      "sepal_width     0.367708\n",
      "petal_length   -0.255767\n",
      "petal_width    -0.074751\n",
      "dtype: float64\n"
     ]
    }
   ],
   "source": [
    "print(df.skew())"
   ]
  },
  {
   "cell_type": "markdown",
   "metadata": {},
   "source": [
    "#### Kurtosis of each feature grouped by species"
   ]
  },
  {
   "cell_type": "code",
   "execution_count": 35,
   "metadata": {},
   "outputs": [
    {
     "name": "stdout",
     "output_type": "stream",
     "text": [
      "                 sepal_length  sepal_width  petal_length  petal_width\n",
      "species                                                              \n",
      "Iris-setosa         -0.689305     0.589198      3.317332     0.996803\n",
      "Iris-versicolor     -0.162358    -0.206966     -0.217697    -0.219342\n",
      "Iris-virginica      -1.004403     0.372193     -0.937388    -0.685965\n"
     ]
    }
   ],
   "source": [
    "print(df.groupby('species').apply(pd.DataFrame.kurt))"
   ]
  },
  {
   "cell_type": "markdown",
   "metadata": {},
   "source": [
    "#### Kurtosis"
   ]
  },
  {
   "cell_type": "code",
   "execution_count": 36,
   "metadata": {},
   "outputs": [
    {
     "name": "stdout",
     "output_type": "stream",
     "text": [
      "sepal_length   -0.544820\n",
      "sepal_width     0.510490\n",
      "petal_length   -1.389810\n",
      "petal_width    -1.315451\n",
      "dtype: float64\n"
     ]
    }
   ],
   "source": [
    "print(df.kurtosis())"
   ]
  },
  {
   "cell_type": "markdown",
   "metadata": {},
   "source": [
    "### Heart disease\n",
    "\n",
    "#### Calculating Coorelation Coefficient "
   ]
  },
  {
   "cell_type": "code",
   "execution_count": 60,
   "metadata": {
    "scrolled": true
   },
   "outputs": [
    {
     "name": "stdout",
     "output_type": "stream",
     "text": [
      "Figure2 Correlation of features in heart disease data base\n"
     ]
    },
    {
     "data": {
      "image/png": "[encoded data removed]",
      "text/plain": [
       "<Figure size 432x288 with 2 Axes>"
      ]
     },
     "metadata": {},
     "output_type": "display_data"
    }
   ],
   "source": [
    "df = pd.read_csv('heart_disease_missing.csv')\n",
    "if(df.isnull().values.any()):\n",
    "    df = df.fillna(method = 'ffill')\n",
    "df = df[(np.abs(stats.zscore(df)) < 4).all(axis=1)]\n",
    "df = df[[ 'cp', 'thalach', 'exang', 'oldpeak', 'target']]\n",
    "\n",
    "corr=df.corr(method='pearson')\n",
    "sb.heatmap(corr,cmap='RdBu_r',annot=True, linewidth=0.5)\n",
    "print('Figure2 Correlation of features in heart disease data base')"
   ]
  },
  {
   "cell_type": "markdown",
   "metadata": {},
   "source": [
    "### Mean , Variance, Skew and Kurtosis calculation\n",
    "#### Mean of each feature grouped by species"
   ]
  },
  {
   "cell_type": "code",
   "execution_count": 51,
   "metadata": {},
   "outputs": [
    {
     "name": "stdout",
     "output_type": "stream",
     "text": [
      "              cp     thalach     exang   oldpeak\n",
      "target                                          \n",
      "0       0.416667  139.829530  0.583333  1.658434\n",
      "1       1.417391  157.957158  0.147826  0.602950\n"
     ]
    }
   ],
   "source": [
    "print(df.groupby('target').mean())"
   ]
  },
  {
   "cell_type": "markdown",
   "metadata": {},
   "source": [
    "#### Mean"
   ]
  },
  {
   "cell_type": "code",
   "execution_count": 48,
   "metadata": {},
   "outputs": [
    {
     "name": "stdout",
     "output_type": "stream",
     "text": [
      "cp           0.962085\n",
      "thalach    149.709517\n",
      "exang        0.345972\n",
      "oldpeak      1.083170\n",
      "target       0.545024\n",
      "dtype: float64\n"
     ]
    }
   ],
   "source": [
    "print(df.mean())"
   ]
  },
  {
   "cell_type": "markdown",
   "metadata": {},
   "source": [
    "#### variance of each feature grouped by species"
   ]
  },
  {
   "cell_type": "code",
   "execution_count": 52,
   "metadata": {},
   "outputs": [
    {
     "name": "stdout",
     "output_type": "stream",
     "text": [
      "              cp     thalach     exang   oldpeak\n",
      "target                                          \n",
      "0       0.708772  467.983591  0.245614  1.626871\n",
      "1       0.876888  348.308774  0.127079  0.716591\n"
     ]
    }
   ],
   "source": [
    "print(df.groupby('target').var())"
   ]
  },
  {
   "cell_type": "markdown",
   "metadata": {},
   "source": [
    "#### Variance"
   ]
  },
  {
   "cell_type": "code",
   "execution_count": 40,
   "metadata": {},
   "outputs": [
    {
     "name": "stdout",
     "output_type": "stream",
     "text": [
      "cp           1.046175\n",
      "thalach    482.663384\n",
      "exang        0.227353\n",
      "oldpeak      1.402542\n",
      "target       0.249154\n",
      "dtype: float64\n"
     ]
    }
   ],
   "source": [
    "print(df.var())"
   ]
  },
  {
   "cell_type": "markdown",
   "metadata": {},
   "source": [
    "#### Skew of each feature grouped by species"
   ]
  },
  {
   "cell_type": "code",
   "execution_count": 53,
   "metadata": {},
   "outputs": [
    {
     "name": "stdout",
     "output_type": "stream",
     "text": [
      "              cp   thalach     exang   oldpeak\n",
      "target                                        \n",
      "0       1.781589 -0.174207 -0.343452  0.542256\n",
      "1      -0.212392 -0.484402  2.010807  1.685752\n"
     ]
    }
   ],
   "source": [
    "print(df.groupby('target').skew())\n"
   ]
  },
  {
   "cell_type": "markdown",
   "metadata": {},
   "source": [
    "#### Skew"
   ]
  },
  {
   "cell_type": "code",
   "execution_count": 45,
   "metadata": {},
   "outputs": [
    {
     "name": "stdout",
     "output_type": "stream",
     "text": [
      "cp         0.453769\n",
      "thalach   -0.399019\n",
      "exang      0.652254\n",
      "oldpeak    1.081866\n",
      "target    -0.182127\n",
      "dtype: float64\n"
     ]
    }
   ],
   "source": [
    "print(df.skew())"
   ]
  },
  {
   "cell_type": "markdown",
   "metadata": {},
   "source": [
    "#### Kurtosis of each feature grouped by species"
   ]
  },
  {
   "cell_type": "code",
   "execution_count": 59,
   "metadata": {},
   "outputs": [
    {
     "name": "stdout",
     "output_type": "stream",
     "text": [
      "              cp   thalach     exang   oldpeak  target\n",
      "target                                                \n",
      "0       1.772068 -0.292071 -1.922541 -0.073231     0.0\n",
      "1      -0.956666  0.136951  2.079206  3.192748     0.0\n"
     ]
    }
   ],
   "source": [
    "print(df.groupby('target').apply(pd.DataFrame.kurt))"
   ]
  },
  {
   "cell_type": "markdown",
   "metadata": {},
   "source": [
    "#### Kurtosis"
   ]
  },
  {
   "cell_type": "code",
   "execution_count": 61,
   "metadata": {},
   "outputs": [
    {
     "name": "stdout",
     "output_type": "stream",
     "text": [
      "cp        -1.246196\n",
      "thalach   -0.192412\n",
      "exang     -1.589724\n",
      "oldpeak    0.741697\n",
      "target    -1.985743\n",
      "dtype: float64\n"
     ]
    }
   ],
   "source": [
    "print(df.kurtosis())"
   ]
  },
  {
   "cell_type": "markdown",
   "metadata": {},
   "source": [
    "#### Observations:\n",
    "\n",
    "1. On the exang pair curves graph shown in CM2 for the Heart-Disease dataset, the curve with target 1 is tall and thin from the range -0.5 to 0.5 thus causing the kurtosis to be greater than 0 as represented in the calculated kurtosis (2.079206) value.\n",
    "\n",
    "\n",
    "2. On the thalach pair curves graph shown in CM2 for the Heart-Disease dataset, both curves with the target 0 and 1 tend to be negative skew values(-0.174207 and -0.484402 respectively) as their curve tails follow the negative direction in the x-axis.\n",
    "\n",
    "\n",
    "3. On the cp pair curves graph shown in CM2 for the Heart-Disease dataset, the skew is positive when the target is 0 and is validated with the skew calculation(1.781589) as most of the data is on the left half of the graph with the tail extending towards the positive half of the axis.\n",
    "\n",
    "\n",
    "4. On the old peak pair curves graph for target 0 and 1 shown in CM2 for the Heart-Disease dataset, the skew values remain positive with the tail extending towards the positive half of the axis. This observation has been validated with the calculation of skew values for both target curves with the positive skew values of 0.542256 and 1.685752 for target 0 and 1 respectively."
   ]
  },
  {
   "cell_type": "markdown",
   "metadata": {},
   "source": [
    "## Refrences:\n",
    "https://stackoverflow.com/questions/37345493/kurtosis-on-groupby-of-pandas-dataframe-doesnt-work\n",
    "https://pandas.pydata.org/pandas-docs/stable/reference/api/pandas.DataFrame.kurt.html\n"
   ]
  }
 ],
 "metadata": {
  "kernelspec": {
   "display_name": "Python 3",
   "language": "python",
   "name": "python3"
  },
  "language_info": {
   "codemirror_mode": {
    "name": "ipython",
    "version": 3
   },
   "file_extension": ".py",
   "mimetype": "text/x-python",
   "name": "python",
   "nbconvert_exporter": "python",
   "pygments_lexer": "ipython3",
   "version": "3.9.5"
  }
 },
 "nbformat": 4,
 "nbformat_minor": 4
}
