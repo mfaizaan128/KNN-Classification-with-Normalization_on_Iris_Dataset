{
 "cells": [
  {
   "cell_type": "markdown",
   "metadata": {},
   "source": [
    "# CM4"
   ]
  },
  {
   "cell_type": "code",
   "execution_count": 38,
   "metadata": {},
   "outputs": [],
   "source": [
    "import pandas as pd\n",
    "import numpy as np\n",
    "from matplotlib import pyplot as plt\n",
    "import seaborn as sns\n",
    "from sklearn.neighbors import KNeighborsClassifier\n",
    "from sklearn import metrics\n",
    "from sklearn.model_selection import cross_val_score\n",
    "from sklearn.model_selection import train_test_split\n",
    "from scipy import stats"
   ]
  },
  {
   "cell_type": "markdown",
   "metadata": {},
   "source": [
    "## Iris"
   ]
  },
  {
   "cell_type": "code",
   "execution_count": 22,
   "metadata": {},
   "outputs": [],
   "source": [
    "df_iris = pd.read_csv('iris_dataset_missing.csv')"
   ]
  },
  {
   "cell_type": "code",
   "execution_count": 23,
   "metadata": {},
   "outputs": [],
   "source": [
    "df_iris['sepal_width'].interpolate(method='linear', direction = 'forward', inplace=True) \n",
    "df_iris['petal_length'].interpolate(method='linear', direction = 'forward', inplace=True) \n",
    "# https://www.w3resource.com/python-exercises/pandas/missing-values/python-pandas-missing-values-exercise-15.php"
   ]
  },
  {
   "cell_type": "code",
   "execution_count": 50,
   "metadata": {},
   "outputs": [],
   "source": [
    "def minmax_scaling(a):\n",
    "    xx=a\n",
    "    a_std = (xx- xx.min(axis = 0)) / (xx.max(axis = 0) - xx.min(axis = 0))\n",
    "    return a_std"
   ]
  },
  {
   "cell_type": "code",
   "execution_count": 25,
   "metadata": {},
   "outputs": [],
   "source": [
    "def zscore(a):\n",
    "    xx=a\n",
    "    a_std = (xx- np.mean(xx)) / (np.std(xx))\n",
    "    return a_std"
   ]
  },
  {
   "cell_type": "code",
   "execution_count": 52,
   "metadata": {},
   "outputs": [],
   "source": [
    "mf_iris=df_iris.copy()\n",
    "mf_iris['sepal_length']=minmax_scaling(mf_iris['sepal_length'])\n",
    "mf_iris['sepal_width']=minmax_scaling(mf_iris['sepal_width'])\n",
    "mf_iris['petal_length']=minmax_scaling(mf_iris['petal_length'])\n",
    "mf_iris['petal_width']=minmax_scaling(mf_iris['petal_width'])"
   ]
  },
  {
   "cell_type": "code",
   "execution_count": 53,
   "metadata": {},
   "outputs": [],
   "source": [
    "zf_iris=df_iris.copy()\n",
    "zf_iris['sepal_length']=zscore(zf_iris['sepal_length'])\n",
    "zf_iris['sepal_width']=zscore(zf_iris['sepal_width'])\n",
    "zf_iris['petal_length']=zscore(zf_iris['petal_length'])\n",
    "zf_iris['petal_width']=zscore(zf_iris['petal_width'])"
   ]
  },
  {
   "cell_type": "markdown",
   "metadata": {},
   "source": [
    "### Without normalization "
   ]
  },
  {
   "cell_type": "code",
   "execution_count": 54,
   "metadata": {},
   "outputs": [
    {
     "name": "stdout",
     "output_type": "stream",
     "text": [
      "K= 1 and mean of accuracy is 0.9058823529411765 and standard deviation is 0.059988464865797474 .\n",
      "K= 2 and mean of accuracy is 0.9294117647058823 and standard deviation is 0.04401949866792873 .\n",
      "K= 3 and mean of accuracy is 0.9169117647058822 and standard deviation is 0.05971747207131458 .\n",
      "K= 4 and mean of accuracy is 0.9169117647058822 and standard deviation is 0.05971747207131458 .\n",
      "K= 5 and mean of accuracy is 0.9051470588235293 and standard deviation is 0.07023502315446797 .\n",
      "K= 6 and mean of accuracy is 0.9051470588235293 and standard deviation is 0.07947981833453918 .\n",
      "K= 7 and mean of accuracy is 0.9051470588235293 and standard deviation is 0.09531635542999299 .\n",
      "K= 8 and mean of accuracy is 0.8816176470588235 and standard deviation is 0.07383758947431292 .\n",
      "K= 9 and mean of accuracy is 0.9169117647058822 and standard deviation is 0.07958858310432242 .\n",
      "K= 10 and mean of accuracy is 0.9404411764705882 and standard deviation is 0.05263391225933319 .\n",
      "K= 11 and mean of accuracy is 0.9169117647058822 and standard deviation is 0.07958858310432242 .\n",
      "K= 12 and mean of accuracy is 0.9169117647058822 and standard deviation is 0.07958858310432242 .\n",
      "K= 13 and mean of accuracy is 0.9169117647058822 and standard deviation is 0.07958858310432242 .\n",
      "K= 14 and mean of accuracy is 0.9051470588235293 and standard deviation is 0.09531635542999299 .\n",
      "K= 15 and mean of accuracy is 0.9169117647058822 and standard deviation is 0.07958858310432242 .\n",
      "K= 16 and mean of accuracy is 0.8933823529411764 and standard deviation is 0.06810903633476126 .\n",
      "K= 17 and mean of accuracy is 0.9051470588235293 and standard deviation is 0.07023502315446797 .\n",
      "K= 18 and mean of accuracy is 0.8933823529411764 and standard deviation is 0.06810903633476126 .\n",
      "K= 19 and mean of accuracy is 0.8933823529411764 and standard deviation is 0.06810903633476126 .\n",
      "K= 20 and mean of accuracy is 0.8933823529411764 and standard deviation is 0.06810903633476126 .\n",
      "K= 21 and mean of accuracy is 0.8933823529411764 and standard deviation is 0.06810903633476126 .\n",
      "K= 22 and mean of accuracy is 0.8933823529411764 and standard deviation is 0.06810903633476126 .\n",
      "K= 23 and mean of accuracy is 0.8933823529411764 and standard deviation is 0.06810903633476126 .\n",
      "K= 24 and mean of accuracy is 0.8933823529411764 and standard deviation is 0.06810903633476126 .\n",
      "K= 25 and mean of accuracy is 0.8933823529411764 and standard deviation is 0.06810903633476126 .\n",
      "K= 26 and mean of accuracy is 0.8698529411764705 and standard deviation is 0.06785454114740783 .\n",
      "K= 27 and mean of accuracy is 0.8816176470588235 and standard deviation is 0.0826805458639447 .\n",
      "K= 28 and mean of accuracy is 0.8580882352941176 and standard deviation is 0.06974062177281988 .\n",
      "K= 29 and mean of accuracy is 0.8580882352941176 and standard deviation is 0.06974062177281988 .\n",
      "K= 30 and mean of accuracy is 0.8580882352941176 and standard deviation is 0.06974062177281988 .\n",
      "K= 31 and mean of accuracy is 0.8580882352941176 and standard deviation is 0.06974062177281988 .\n",
      "K= 32 and mean of accuracy is 0.8580882352941176 and standard deviation is 0.06974062177281988 .\n",
      "K= 33 and mean of accuracy is 0.8580882352941176 and standard deviation is 0.06974062177281988 .\n",
      "K= 34 and mean of accuracy is 0.8463235294117647 and standard deviation is 0.07893374647246851 .\n",
      "K= 35 and mean of accuracy is 0.8463235294117647 and standard deviation is 0.07893374647246851 .\n"
     ]
    }
   ],
   "source": [
    "train, test = train_test_split(df_iris, test_size = 0.2, stratify = df_iris['species'], random_state = 98)\n",
    "X_train = train[['sepal_length','sepal_width','petal_length','petal_width']]\n",
    "y_train = train.species\n",
    "X_test = test[['sepal_length','sepal_width','petal_length','petal_width']]\n",
    "y_test = test.species\n",
    "counter = 0\n",
    "scoresMean = np.zeros(35)\n",
    "scoresStd  = np.zeros(35)\n",
    "for k in range(1,36):\n",
    "    classifier = KNeighborsClassifier(n_neighbors = k)\n",
    "    classifier = classifier.fit(X_train,y_train)\n",
    "    scores = cross_val_score(classifier, X_train, y_train, cv=5)\n",
    "    scoresMean[counter] = scores.mean()\n",
    "    scoresStd[counter] = scores.std()\n",
    "    counter = counter + 1\n",
    "    print('K=',k,'and mean of accuracy is',scores.mean(),'and standard deviation is',scores.std(),'.')"
   ]
  },
  {
   "cell_type": "markdown",
   "metadata": {},
   "source": [
    "### By minmax"
   ]
  },
  {
   "cell_type": "code",
   "execution_count": 55,
   "metadata": {},
   "outputs": [
    {
     "name": "stdout",
     "output_type": "stream",
     "text": [
      "K= 1 and mean of accuracy is 0.8941176470588236 and standard deviation is 0.06859943405700356 .\n",
      "K= 2 and mean of accuracy is 0.9058823529411765 and standard deviation is 0.07979211744853258 .\n",
      "K= 3 and mean of accuracy is 0.8933823529411764 and standard deviation is 0.06810903633476126 .\n",
      "K= 4 and mean of accuracy is 0.9169117647058822 and standard deviation is 0.028249077518086103 .\n",
      "K= 5 and mean of accuracy is 0.9169117647058822 and standard deviation is 0.05971747207131458 .\n",
      "K= 6 and mean of accuracy is 0.9286764705882351 and standard deviation is 0.04384721034081052 .\n",
      "K= 7 and mean of accuracy is 0.9404411764705882 and standard deviation is 0.05263391225933319 .\n",
      "K= 8 and mean of accuracy is 0.9286764705882351 and standard deviation is 0.04384721034081052 .\n",
      "K= 9 and mean of accuracy is 0.9286764705882351 and standard deviation is 0.04384721034081052 .\n",
      "K= 10 and mean of accuracy is 0.9051470588235293 and standard deviation is 0.059572438530967935 .\n",
      "K= 11 and mean of accuracy is 0.9169117647058822 and standard deviation is 0.05971747207131458 .\n",
      "K= 12 and mean of accuracy is 0.9169117647058822 and standard deviation is 0.05971747207131458 .\n",
      "K= 13 and mean of accuracy is 0.9169117647058822 and standard deviation is 0.05971747207131458 .\n",
      "K= 14 and mean of accuracy is 0.9169117647058822 and standard deviation is 0.05971747207131458 .\n",
      "K= 15 and mean of accuracy is 0.9404411764705882 and standard deviation is 0.05263391225933319 .\n",
      "K= 16 and mean of accuracy is 0.8933823529411764 and standard deviation is 0.04325129755839043 .\n",
      "K= 17 and mean of accuracy is 0.9051470588235293 and standard deviation is 0.059572438530967935 .\n",
      "K= 18 and mean of accuracy is 0.8933823529411764 and standard deviation is 0.04325129755839043 .\n",
      "K= 19 and mean of accuracy is 0.9051470588235293 and standard deviation is 0.059572438530967935 .\n",
      "K= 20 and mean of accuracy is 0.9051470588235293 and standard deviation is 0.059572438530967935 .\n",
      "K= 21 and mean of accuracy is 0.9051470588235293 and standard deviation is 0.059572438530967935 .\n",
      "K= 22 and mean of accuracy is 0.9051470588235293 and standard deviation is 0.059572438530967935 .\n",
      "K= 23 and mean of accuracy is 0.9051470588235293 and standard deviation is 0.059572438530967935 .\n",
      "K= 24 and mean of accuracy is 0.9051470588235293 and standard deviation is 0.059572438530967935 .\n",
      "K= 25 and mean of accuracy is 0.9051470588235293 and standard deviation is 0.059572438530967935 .\n",
      "K= 26 and mean of accuracy is 0.8933823529411764 and standard deviation is 0.06810903633476126 .\n",
      "K= 27 and mean of accuracy is 0.8933823529411764 and standard deviation is 0.06810903633476126 .\n",
      "K= 28 and mean of accuracy is 0.8816176470588235 and standard deviation is 0.0826805458639447 .\n",
      "K= 29 and mean of accuracy is 0.8816176470588235 and standard deviation is 0.0826805458639447 .\n",
      "K= 30 and mean of accuracy is 0.8816176470588235 and standard deviation is 0.0826805458639447 .\n",
      "K= 31 and mean of accuracy is 0.8816176470588235 and standard deviation is 0.0826805458639447 .\n",
      "K= 32 and mean of accuracy is 0.8816176470588235 and standard deviation is 0.0826805458639447 .\n",
      "K= 33 and mean of accuracy is 0.8816176470588235 and standard deviation is 0.0826805458639447 .\n",
      "K= 34 and mean of accuracy is 0.8698529411764705 and standard deviation is 0.06785454114740783 .\n",
      "K= 35 and mean of accuracy is 0.8698529411764705 and standard deviation is 0.06785454114740783 .\n"
     ]
    }
   ],
   "source": [
    "train, test = train_test_split(mf_iris, test_size = 0.2, stratify = mf_iris['species'], random_state = 98)\n",
    "#corrmat = train.corr()\n",
    "#sns.heatmap(corrmat, annot = True, square = True);\n",
    "X_train = train[['sepal_length','sepal_width','petal_length','petal_width']]\n",
    "y_train = train.species\n",
    "X_test = test[['sepal_length','sepal_width','petal_length','petal_width']]\n",
    "y_test = test.species\n",
    "counter = 0\n",
    "scoresMean = np.zeros(35)\n",
    "scoresStd  = np.zeros(35)\n",
    "for k in range(1,36):\n",
    "    classifier = KNeighborsClassifier(n_neighbors = k)\n",
    "    classifier = classifier.fit(X_train,y_train)\n",
    "    scores = cross_val_score(classifier, X_train, y_train, cv=5)\n",
    "    scoresMean[counter] = scores.mean()\n",
    "    scoresStd[counter] = scores.std()\n",
    "    counter = counter + 1\n",
    "    print('K=',k,'and mean of accuracy is',scores.mean(),'and standard deviation is',scores.std(),'.')"
   ]
  },
  {
   "cell_type": "markdown",
   "metadata": {},
   "source": [
    "### By zscore"
   ]
  },
  {
   "cell_type": "code",
   "execution_count": 56,
   "metadata": {},
   "outputs": [
    {
     "name": "stdout",
     "output_type": "stream",
     "text": [
      "K= 1 and mean of accuracy is 0.8941176470588236 and standard deviation is 0.06859943405700356 .\n",
      "K= 2 and mean of accuracy is 0.9058823529411765 and standard deviation is 0.07979211744853258 .\n",
      "K= 3 and mean of accuracy is 0.8823529411764707 and standard deviation is 0.08318903308077032 .\n",
      "K= 4 and mean of accuracy is 0.9176470588235294 and standard deviation is 0.059988464865797474 .\n",
      "K= 5 and mean of accuracy is 0.9294117647058823 and standard deviation is 0.06859943405700356 .\n",
      "K= 6 and mean of accuracy is 0.9411764705882352 and standard deviation is 0.05261336417646565 .\n",
      "K= 7 and mean of accuracy is 0.9294117647058823 and standard deviation is 0.06859943405700356 .\n",
      "K= 8 and mean of accuracy is 0.9176470588235294 and standard deviation is 0.059988464865797474 .\n",
      "K= 9 and mean of accuracy is 0.9058823529411765 and standard deviation is 0.07979211744853258 .\n",
      "K= 10 and mean of accuracy is 0.9058823529411765 and standard deviation is 0.059988464865797474 .\n",
      "K= 11 and mean of accuracy is 0.9294117647058823 and standard deviation is 0.04401949866792873 .\n",
      "K= 12 and mean of accuracy is 0.8941176470588236 and standard deviation is 0.06859943405700356 .\n",
      "K= 13 and mean of accuracy is 0.8941176470588236 and standard deviation is 0.06859943405700356 .\n",
      "K= 14 and mean of accuracy is 0.8941176470588236 and standard deviation is 0.06859943405700356 .\n",
      "K= 15 and mean of accuracy is 0.8941176470588236 and standard deviation is 0.06859943405700356 .\n",
      "K= 16 and mean of accuracy is 0.8941176470588236 and standard deviation is 0.06859943405700356 .\n",
      "K= 17 and mean of accuracy is 0.8823529411764707 and standard deviation is 0.08318903308077032 .\n",
      "K= 18 and mean of accuracy is 0.8823529411764707 and standard deviation is 0.08318903308077032 .\n",
      "K= 19 and mean of accuracy is 0.8705882352941178 and standard deviation is 0.11997692973159493 .\n",
      "K= 20 and mean of accuracy is 0.8470588235294118 and standard deviation is 0.12670976016787067 .\n",
      "K= 21 and mean of accuracy is 0.8588235294117647 and standard deviation is 0.13719886811400706 .\n",
      "K= 22 and mean of accuracy is 0.8470588235294118 and standard deviation is 0.12670976016787067 .\n",
      "K= 23 and mean of accuracy is 0.8705882352941178 and standard deviation is 0.1411764705882353 .\n",
      "K= 24 and mean of accuracy is 0.8588235294117647 and standard deviation is 0.10910139406465534 .\n",
      "K= 25 and mean of accuracy is 0.8698529411764706 and standard deviation is 0.09357610747019433 .\n",
      "K= 26 and mean of accuracy is 0.8698529411764706 and standard deviation is 0.10070040185747052 .\n",
      "K= 27 and mean of accuracy is 0.8698529411764706 and standard deviation is 0.10070040185747052 .\n",
      "K= 28 and mean of accuracy is 0.8698529411764705 and standard deviation is 0.06785454114740783 .\n",
      "K= 29 and mean of accuracy is 0.8698529411764705 and standard deviation is 0.06785454114740783 .\n",
      "K= 30 and mean of accuracy is 0.8816176470588235 and standard deviation is 0.051805632217083945 .\n",
      "K= 31 and mean of accuracy is 0.8816176470588235 and standard deviation is 0.0826805458639447 .\n",
      "K= 32 and mean of accuracy is 0.8698529411764705 and standard deviation is 0.06785454114740783 .\n",
      "K= 33 and mean of accuracy is 0.8698529411764706 and standard deviation is 0.10070040185747052 .\n",
      "K= 34 and mean of accuracy is 0.8823529411764705 and standard deviation is 0.08318903308077032 .\n",
      "K= 35 and mean of accuracy is 0.8705882352941176 and standard deviation is 0.10120382667108971 .\n"
     ]
    }
   ],
   "source": [
    "from sklearn.model_selection import train_test_split\n",
    "import seaborn as sns\n",
    "from sklearn.neighbors import KNeighborsClassifier\n",
    "from sklearn import metrics\n",
    "from sklearn.model_selection import cross_val_score\n",
    "from sklearn.preprocessing import StandardScaler\n",
    "\n",
    "train, test = train_test_split(zf_iris, test_size = 0.2, stratify = zf_iris['species'], random_state = 98)\n",
    "#corrmat = train.corr()\n",
    "#sns.heatmap(corrmat, annot = True, square = True);\n",
    "X_train = train[['sepal_length','sepal_width','petal_length','petal_width']]\n",
    "y_train = train.species\n",
    "X_test = test[['sepal_length','sepal_width','petal_length','petal_width']]\n",
    "y_test = test.species\n",
    "counter = 0\n",
    "scoresMean = np.zeros(35)\n",
    "scoresStd  = np.zeros(35)\n",
    "for k in range(1,36):\n",
    "    classifier = KNeighborsClassifier(n_neighbors = k)\n",
    "    classifier = classifier.fit(X_train,y_train)\n",
    "    scores = cross_val_score(classifier, X_train, y_train, cv=5)\n",
    "    scoresMean[counter] = scores.mean()\n",
    "    scoresStd[counter] = scores.std()\n",
    "    counter = counter + 1\n",
    "    print('K=',k,'and mean of accuracy is',scores.mean(),'and standard deviation is',scores.std(),'.')"
   ]
  },
  {
   "cell_type": "markdown",
   "metadata": {},
   "source": [
    "## Heart disease"
   ]
  },
  {
   "cell_type": "code",
   "execution_count": 57,
   "metadata": {},
   "outputs": [],
   "source": [
    "df = pd.read_csv('heart_disease_missing.csv')\n",
    "if(df.isnull().values.any()):\n",
    "    df = df.fillna(method = 'ffill')\n",
    "df = df[(np.abs(stats.zscore(df)) < 4).all(axis=1)]\n",
    "df = df[[ 'cp', 'thalach', 'exang', 'oldpeak','','target']]\n",
    "df['oldpeak'].interpolate(method='linear', direction = 'forward', inplace=True) "
   ]
  },
  {
   "cell_type": "markdown",
   "metadata": {},
   "source": [
    "### Without normalization "
   ]
  },
  {
   "cell_type": "code",
   "execution_count": 58,
   "metadata": {},
   "outputs": [
    {
     "name": "stdout",
     "output_type": "stream",
     "text": [
      "K= 1 and Validation accuracy: 0.71 .\n",
      "K= 2 and Validation accuracy: 0.65 .\n",
      "K= 3 and Validation accuracy: 0.71 .\n",
      "K= 4 and Validation accuracy: 0.71 .\n",
      "K= 5 and Validation accuracy: 0.71 .\n",
      "K= 6 and Validation accuracy: 0.71 .\n",
      "K= 7 and Validation accuracy: 0.71 .\n",
      "K= 8 and Validation accuracy: 0.71 .\n",
      "K= 9 and Validation accuracy: 0.76 .\n",
      "K= 10 and Validation accuracy: 0.76 .\n",
      "K= 11 and Validation accuracy: 0.88 .\n",
      "K= 12 and Validation accuracy: 0.82 .\n",
      "K= 13 and Validation accuracy: 0.76 .\n",
      "K= 14 and Validation accuracy: 0.76 .\n",
      "K= 15 and Validation accuracy: 0.76 .\n",
      "K= 16 and Validation accuracy: 0.76 .\n",
      "K= 17 and Validation accuracy: 0.76 .\n",
      "K= 18 and Validation accuracy: 0.71 .\n",
      "K= 19 and Validation accuracy: 0.71 .\n",
      "K= 20 and Validation accuracy: 0.71 .\n",
      "K= 21 and Validation accuracy: 0.71 .\n",
      "K= 22 and Validation accuracy: 0.71 .\n",
      "K= 23 and Validation accuracy: 0.76 .\n",
      "K= 24 and Validation accuracy: 0.76 .\n",
      "K= 25 and Validation accuracy: 0.76 .\n",
      "K= 26 and Validation accuracy: 0.76 .\n",
      "K= 27 and Validation accuracy: 0.76 .\n",
      "K= 28 and Validation accuracy: 0.71 .\n",
      "K= 29 and Validation accuracy: 0.76 .\n",
      "K= 30 and Validation accuracy: 0.76 .\n",
      "K= 31 and Validation accuracy: 0.76 .\n",
      "K= 32 and Validation accuracy: 0.76 .\n",
      "K= 33 and Validation accuracy: 0.76 .\n",
      "K= 34 and Validation accuracy: 0.76 .\n",
      "K= 35 and Validation accuracy: 0.76 .\n"
     ]
    }
   ],
   "source": [
    "X = df.iloc[:,:-1].values\n",
    "y = df.iloc[:,4].values\n",
    "X_t, X_test, y_t, y_test =  train_test_split(X,y,test_size = 0.2, random_state= 98)\n",
    "X_train, X_val, y_train, y_val =  train_test_split(X_t,y_t,test_size = 0.1, random_state= 98)\n",
    "for k in range(1,36):\n",
    "    classifier = KNeighborsClassifier(n_neighbors = k)\n",
    "    classifier = classifier.fit(X_train,y_train)\n",
    "    y_pred1 = classifier.predict(X_val)\n",
    "    accuracy = metrics.accuracy_score(y_val, y_pred1)\n",
    "    print('K=',k,'and Validation accuracy: {:.2f}'.format(accuracy),'.')\n",
    "# https://www.kdnuggets.com/2019/07/classifying-heart-disease-using-k-nearest-neighbors.html/2"
   ]
  },
  {
   "cell_type": "code",
   "execution_count": 59,
   "metadata": {},
   "outputs": [
    {
     "name": "stdout",
     "output_type": "stream",
     "text": [
      "K= 1 and Validation accuracy: 0.59 .\n",
      "K= 2 and Validation accuracy: 0.71 .\n",
      "K= 3 and Validation accuracy: 0.59 .\n",
      "K= 4 and Validation accuracy: 0.53 .\n",
      "K= 5 and Validation accuracy: 0.65 .\n",
      "K= 6 and Validation accuracy: 0.65 .\n",
      "K= 7 and Validation accuracy: 0.65 .\n",
      "K= 8 and Validation accuracy: 0.59 .\n",
      "K= 9 and Validation accuracy: 0.71 .\n",
      "K= 10 and Validation accuracy: 0.65 .\n",
      "K= 11 and Validation accuracy: 0.71 .\n",
      "K= 12 and Validation accuracy: 0.71 .\n",
      "K= 13 and Validation accuracy: 0.71 .\n",
      "K= 14 and Validation accuracy: 0.71 .\n",
      "K= 15 and Validation accuracy: 0.65 .\n",
      "K= 16 and Validation accuracy: 0.65 .\n",
      "K= 17 and Validation accuracy: 0.65 .\n",
      "K= 18 and Validation accuracy: 0.65 .\n",
      "K= 19 and Validation accuracy: 0.65 .\n",
      "K= 20 and Validation accuracy: 0.65 .\n",
      "K= 21 and Validation accuracy: 0.65 .\n",
      "K= 22 and Validation accuracy: 0.65 .\n",
      "K= 23 and Validation accuracy: 0.65 .\n",
      "K= 24 and Validation accuracy: 0.59 .\n",
      "K= 25 and Validation accuracy: 0.65 .\n",
      "K= 26 and Validation accuracy: 0.59 .\n",
      "K= 27 and Validation accuracy: 0.65 .\n",
      "K= 28 and Validation accuracy: 0.59 .\n",
      "K= 29 and Validation accuracy: 0.59 .\n",
      "K= 30 and Validation accuracy: 0.59 .\n",
      "K= 31 and Validation accuracy: 0.59 .\n",
      "K= 32 and Validation accuracy: 0.59 .\n",
      "K= 33 and Validation accuracy: 0.65 .\n",
      "K= 34 and Validation accuracy: 0.59 .\n",
      "K= 35 and Validation accuracy: 0.59 .\n"
     ]
    }
   ],
   "source": [
    "from sklearn.preprocessing import StandardScaler\n",
    "X = df.iloc[:,:-1].values\n",
    "y = df.iloc[:,4].values\n",
    "X_t, X_test, y_t, y_test =  train_test_split(X,y,test_size = 0.2, random_state= 98)\n",
    "X_train, X_val, y_train, y_val =  train_test_split(X_t,y_t,test_size = 0.1, random_state= 98)\n",
    "X_train = zscore(X_train)\n",
    "X_test = zscore(X_test)\n",
    "X_val = zscore(X_val)\n",
    "for k in range(1,36):\n",
    "    classifier = KNeighborsClassifier(n_neighbors = k)\n",
    "    classifier = classifier.fit(X_train,y_train)\n",
    "    y_pred1 = classifier.predict(X_val)\n",
    "    accuracy = metrics.accuracy_score(y_val, y_pred1)\n",
    "    print('K=',k,'and Validation accuracy: {:.2f}'.format(accuracy),'.')"
   ]
  },
  {
   "cell_type": "code",
   "execution_count": 60,
   "metadata": {},
   "outputs": [
    {
     "name": "stdout",
     "output_type": "stream",
     "text": [
      "K= 1 and Validation accuracy: 0.71 .\n",
      "K= 2 and Validation accuracy: 0.59 .\n",
      "K= 3 and Validation accuracy: 0.65 .\n",
      "K= 4 and Validation accuracy: 0.65 .\n",
      "K= 5 and Validation accuracy: 0.71 .\n",
      "K= 6 and Validation accuracy: 0.71 .\n",
      "K= 7 and Validation accuracy: 0.76 .\n",
      "K= 8 and Validation accuracy: 0.71 .\n",
      "K= 9 and Validation accuracy: 0.76 .\n",
      "K= 10 and Validation accuracy: 0.76 .\n",
      "K= 11 and Validation accuracy: 0.76 .\n",
      "K= 12 and Validation accuracy: 0.76 .\n",
      "K= 13 and Validation accuracy: 0.76 .\n",
      "K= 14 and Validation accuracy: 0.76 .\n",
      "K= 15 and Validation accuracy: 0.76 .\n",
      "K= 16 and Validation accuracy: 0.76 .\n",
      "K= 17 and Validation accuracy: 0.76 .\n",
      "K= 18 and Validation accuracy: 0.76 .\n",
      "K= 19 and Validation accuracy: 0.76 .\n",
      "K= 20 and Validation accuracy: 0.82 .\n",
      "K= 21 and Validation accuracy: 0.82 .\n",
      "K= 22 and Validation accuracy: 0.82 .\n",
      "K= 23 and Validation accuracy: 0.82 .\n",
      "K= 24 and Validation accuracy: 0.76 .\n",
      "K= 25 and Validation accuracy: 0.76 .\n",
      "K= 26 and Validation accuracy: 0.76 .\n",
      "K= 27 and Validation accuracy: 0.76 .\n",
      "K= 28 and Validation accuracy: 0.76 .\n",
      "K= 29 and Validation accuracy: 0.76 .\n",
      "K= 30 and Validation accuracy: 0.76 .\n",
      "K= 31 and Validation accuracy: 0.76 .\n",
      "K= 32 and Validation accuracy: 0.76 .\n",
      "K= 33 and Validation accuracy: 0.76 .\n",
      "K= 34 and Validation accuracy: 0.76 .\n",
      "K= 35 and Validation accuracy: 0.76 .\n"
     ]
    }
   ],
   "source": [
    "from sklearn.preprocessing import StandardScaler\n",
    "X = df.iloc[:,:-1].values\n",
    "y = df.iloc[:,4].values\n",
    "X_t, X_test, y_t, y_test =  train_test_split(X,y,test_size = 0.2, random_state= 98)\n",
    "X_train, X_val, y_train, y_val =  train_test_split(X_t,y_t,test_size = 0.1, random_state= 98)\n",
    "X_train = minmax_scaling(X_train)\n",
    "X_test = minmax_scaling(X_test)\n",
    "X_val = minmax_scaling(X_val)\n",
    "for k in range(1,36):\n",
    "    classifier = KNeighborsClassifier(n_neighbors = k)\n",
    "    classifier = classifier.fit(X_train,y_train)\n",
    "    y_pred1 = classifier.predict(X_val)\n",
    "    accuracy = metrics.accuracy_score(y_val, y_pred1)\n",
    "    print('K=',k,'and Validation accuracy: {:.2f}'.format(accuracy),'.')"
   ]
  },
  {
   "cell_type": "markdown",
   "metadata": {},
   "source": [
    "Based on the results, for Iris data base accuracy of 94 % is reached with and without normalization. But with normalization number of neighborhoods is lower than without normalization. But for heart disease data base for 4 features, without normalization, the accuracy is better. "
   ]
  },
  {
   "cell_type": "markdown",
   "metadata": {},
   "source": [
    "## Refrences\n",
    "https://www.kdnuggets.com/2019/07/classifying-heart-disease-using-k-nearest-neighbors.html/2\n",
    "https://towardsdatascience.com/exploring-classifiers-with-python-scikit-learn-iris-dataset-2bcb490d2e1b\n",
    "https://scikit-learn.org/stable/modules/cross_validation.html#cross-validation"
   ]
  }
 ],
 "metadata": {
  "kernelspec": {
   "display_name": "Python 3",
   "language": "python",
   "name": "python3"
  },
  "language_info": {
   "codemirror_mode": {
    "name": "ipython",
    "version": 3
   },
   "file_extension": ".py",
   "mimetype": "text/x-python",
   "name": "python",
   "nbconvert_exporter": "python",
   "pygments_lexer": "ipython3",
   "version": "3.8.5"
  }
 },
 "nbformat": 4,
 "nbformat_minor": 4
}
